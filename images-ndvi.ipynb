{
 "cells": [
  {
   "cell_type": "markdown",
   "metadata": {},
   "source": [
    "Using XArray to read tiled GeoTIFF datasets\n",
    "===========================================\n",
    "\n",
    "This notebook shows how to use XArray and Dask to process large GeoTIFF datasets efficiently."
   ]
  },
  {
   "cell_type": "markdown",
   "metadata": {},
   "source": [
    "Download Data\n",
    "-------------\n",
    "\n",
    "Lets download a sample GeoTIFF dataset\n",
    "\n",
    "https://oin-hotosm.s3.amazonaws.com/5abae68e65bd8f00110f3e42/0/5abae68e65bd8f00110f3e43.tif"
   ]
  },
  {
   "cell_type": "code",
   "execution_count": 1,
   "metadata": {},
   "outputs": [],
   "source": [
    "import os\n",
    "if not os.path.exists('myfile.tif'):\n",
    "    import requests\n",
    "    response = requests.get('https://oin-hotosm.s3.amazonaws.com/5abae68e65bd8f00110f3e42/0/5abae68e65bd8f00110f3e43.tif')\n",
    "    with open('myfile.tif', 'wb') as f:\n",
    "        f.write(response.content)"
   ]
  },
  {
   "cell_type": "markdown",
   "metadata": {},
   "source": [
    "## Look at metadata with XArray and Rasterio"
   ]
  },
  {
   "cell_type": "code",
   "execution_count": 8,
   "metadata": {},
   "outputs": [
    {
     "data": {
      "text/plain": [
       "<xarray.DataArray (band: 1, y: 10980, x: 10980)>\n",
       "[120560400 values with dtype=uint16]\n",
       "Coordinates:\n",
       "  * band     (band) int64 1\n",
       "  * y        (y) float64 4.9e+06 4.9e+06 4.9e+06 4.9e+06 4.9e+06 4.9e+06 ...\n",
       "  * x        (x) float64 6e+05 6e+05 6e+05 6e+05 6e+05 6.001e+05 6.001e+05 ...\n",
       "Attributes:\n",
       "    transform:   (600000.0, 10.0, 0.0, 4900020.0, 0.0, -10.0)\n",
       "    crs:         +init=epsg:32630\n",
       "    res:         (10.0, 10.0)\n",
       "    is_tiled:    1\n",
       "    nodatavals:  (nan,)"
      ]
     },
     "execution_count": 8,
     "metadata": {},
     "output_type": "execute_result"
    }
   ],
   "source": [
    "my_file = '/home/guillaume/Téléchargements/tiles_30_T_XP_S2B_MSIL1C_20180814T105019_N0206_R051_T30TXP_20180814T145300.SAFE_GRANULE_L1C_T30TXP_A007513_20180814T105021_IMG_DATA_T30TXP_20180814T105019_B04.jp2'\n",
    "my_file2 = '/home/guillaume/Téléchargements/tiles_30_T_XP_S2B_MSIL1C_20180814T105019_N0206_R051_T30TXP_20180814T145300.SAFE_GRANULE_L1C_T30TXP_A007513_20180814T105021_IMG_DATA_T30TXP_20180814T105019_B08.jp2'\n",
    "\n",
    "import xarray as xr\n",
    "xr.open_rasterio('/home/guillaume/Téléchargements/tiles_30_T_XP_S2B_MSIL1C_20180814T105019_N0206_R051_T30TXP_20180814T145300.SAFE_GRANULE_L1C_T30TXP_A007513_20180814T105021_IMG_DATA_T30TXP_20180814T105019_B04.jp2')  # this only reads metadata to start"
   ]
  },
  {
   "cell_type": "code",
   "execution_count": 3,
   "metadata": {},
   "outputs": [
    {
     "data": {
      "text/plain": [
       "<open RasterReader name='/home/guillaume/Téléchargements/tiles_30_T_XP_S2B_MSIL1C_20180814T105019_N0206_R051_T30TXP_20180814T145300.SAFE_GRANULE_L1C_T30TXP_A007513_20180814T105021_IMG_DATA_T30TXP_20180814T105019_B04.jp2' mode='r'>"
      ]
     },
     "execution_count": 3,
     "metadata": {},
     "output_type": "execute_result"
    }
   ],
   "source": [
    "import rasterio\n",
    "img = rasterio.open(my_file)\n",
    "img"
   ]
  },
  {
   "cell_type": "code",
   "execution_count": 4,
   "metadata": {},
   "outputs": [
    {
     "data": {
      "text/plain": [
       "True"
      ]
     },
     "execution_count": 4,
     "metadata": {},
     "output_type": "execute_result"
    }
   ],
   "source": [
    "img.is_tiled  # can we read this data in chunks?"
   ]
  },
  {
   "cell_type": "code",
   "execution_count": 5,
   "metadata": {},
   "outputs": [
    {
     "data": {
      "text/plain": [
       "{(1024, 1024)}"
      ]
     },
     "execution_count": 5,
     "metadata": {},
     "output_type": "execute_result"
    }
   ],
   "source": [
    "set(img.block_shapes)  # what are the block shapes that we expect from this file?"
   ]
  },
  {
   "cell_type": "markdown",
   "metadata": {},
   "source": [
    "Great, this dataset is chunked by band (each band separate) and x/y blocks of size 512x512.  We'll want our Dask array chunks to be a bit bigger than this, but we'll use a clean mulitple."
   ]
  },
  {
   "cell_type": "markdown",
   "metadata": {},
   "source": [
    "Create lazy XArray dataset around GeoTIFF file\n",
    "-------------------------------------"
   ]
  },
  {
   "cell_type": "code",
   "execution_count": 9,
   "metadata": {},
   "outputs": [
    {
     "data": {
      "text/plain": [
       "<xarray.DataArray (band: 2, y: 10980, x: 10980)>\n",
       "dask.array<shape=(2, 10980, 10980), dtype=uint16, chunksize=(1, 2048, 2048)>\n",
       "Coordinates:\n",
       "  * y        (y) float64 4.9e+06 4.9e+06 4.9e+06 4.9e+06 4.9e+06 4.9e+06 ...\n",
       "  * x        (x) float64 6e+05 6e+05 6e+05 6e+05 6e+05 6.001e+05 6.001e+05 ...\n",
       "  * band     (band) int64 1 1\n",
       "Attributes:\n",
       "    transform:   (600000.0, 10.0, 0.0, 4900020.0, 0.0, -10.0)\n",
       "    crs:         +init=epsg:32630\n",
       "    res:         (10.0, 10.0)\n",
       "    is_tiled:    1\n",
       "    nodatavals:  (nan,)"
      ]
     },
     "execution_count": 9,
     "metadata": {},
     "output_type": "execute_result"
    }
   ],
   "source": [
    "ds1 = xr.open_rasterio(my_file, \n",
    "                      chunks={'band': 1, 'x': 2048, 'y': 2048})\n",
    "ds2 = xr.open_rasterio(my_file2, chunks={'band': 1, 'x': 2048, 'y': 2048})\n",
    "ds = xr.concat([ds1,ds2], dim='band')\n",
    "ds"
   ]
  },
  {
   "cell_type": "markdown",
   "metadata": {},
   "source": [
    "We note that the variables are dask arrays rather than numpy arrays"
   ]
  },
  {
   "cell_type": "code",
   "execution_count": 10,
   "metadata": {},
   "outputs": [
    {
     "data": {
      "text/plain": [
       "dask.array<concatenate, shape=(2, 10980, 10980), dtype=uint16, chunksize=(1, 2048, 2048)>"
      ]
     },
     "execution_count": 10,
     "metadata": {},
     "output_type": "execute_result"
    }
   ],
   "source": [
    "ds.variable.data"
   ]
  },
  {
   "cell_type": "markdown",
   "metadata": {},
   "source": [
    "Optionally create a Dask Client\n",
    "-------------------------------\n",
    "\n",
    "I do this just to look at the dashboard during execution.  You don't need to run this though. Things will work just fine with the local thread pool scheduler."
   ]
  },
  {
   "cell_type": "code",
   "execution_count": 11,
   "metadata": {},
   "outputs": [
    {
     "data": {
      "text/html": [
       "<table style=\"border: 2px solid white;\">\n",
       "<tr>\n",
       "<td style=\"vertical-align: top; border: 0px solid white\">\n",
       "<h3>Client</h3>\n",
       "<ul>\n",
       "  <li><b>Scheduler: </b>inproc://192.168.0.19/7256/1\n",
       "  <li><b>Dashboard: </b><a href='http://localhost:8787/status' target='_blank'>http://localhost:8787/status</a>\n",
       "</ul>\n",
       "</td>\n",
       "<td style=\"vertical-align: top; border: 0px solid white\">\n",
       "<h3>Cluster</h3>\n",
       "<ul>\n",
       "  <li><b>Workers: </b>1</li>\n",
       "  <li><b>Cores: </b>8</li>\n",
       "  <li><b>Memory: </b>16.77 GB</li>\n",
       "</ul>\n",
       "</td>\n",
       "</tr>\n",
       "</table>"
      ],
      "text/plain": [
       "<Client: scheduler='inproc://192.168.0.19/7256/1' processes=1 cores=8>"
      ]
     },
     "execution_count": 11,
     "metadata": {},
     "output_type": "execute_result"
    }
   ],
   "source": [
    "from dask.distributed import Client\n",
    "client = Client(processes=False)\n",
    "client"
   ]
  },
  {
   "cell_type": "code",
   "execution_count": 13,
   "metadata": {},
   "outputs": [],
   "source": [
    "ndvi = (ds[0,:,:] - ds[1,:,:]) / (ds[0,:,:] + ds[1,:,:])"
   ]
  },
  {
   "cell_type": "code",
   "execution_count": 14,
   "metadata": {},
   "outputs": [
    {
     "name": "stderr",
     "output_type": "stream",
     "text": [
      "/home/guillaume/outils/miniconda3/envs/dask_dev/lib/python3.6/site-packages/distributed/worker.py:840: RuntimeWarning: divide by zero encountered in true_divide\n",
      "  result = function(*args, **kwargs)\n",
      "/home/guillaume/outils/miniconda3/envs/dask_dev/lib/python3.6/site-packages/distributed/worker.py:840: RuntimeWarning: invalid value encountered in true_divide\n",
      "  result = function(*args, **kwargs)\n"
     ]
    }
   ],
   "source": [
    "ndvi = ndvi.persist()"
   ]
  },
  {
   "cell_type": "code",
   "execution_count": 18,
   "metadata": {},
   "outputs": [
    {
     "ename": "AttributeError",
     "evalue": "module 'matplotlib' has no attribute 'imgshow'",
     "output_type": "error",
     "traceback": [
      "\u001b[0;31m---------------------------------------------------------------------------\u001b[0m",
      "\u001b[0;31mAttributeError\u001b[0m                            Traceback (most recent call last)",
      "\u001b[0;32m<ipython-input-18-e1e8e0f23f89>\u001b[0m in \u001b[0;36m<module>\u001b[0;34m()\u001b[0m\n\u001b[1;32m      1\u001b[0m \u001b[0;32mimport\u001b[0m \u001b[0mmatplotlib\u001b[0m \u001b[0;32mas\u001b[0m \u001b[0mplt\u001b[0m\u001b[0;34m\u001b[0m\u001b[0m\n\u001b[0;32m----> 2\u001b[0;31m \u001b[0mplt\u001b[0m\u001b[0;34m.\u001b[0m\u001b[0mimgshow\u001b[0m\u001b[0;34m\u001b[0m\u001b[0m\n\u001b[0m",
      "\u001b[0;31mAttributeError\u001b[0m: module 'matplotlib' has no attribute 'imgshow'"
     ]
    }
   ],
   "source": [
    "import matplotlib.pyplot as plt\n"
   ]
  },
  {
   "cell_type": "code",
   "execution_count": null,
   "metadata": {},
   "outputs": [],
   "source": []
  }
 ],
 "metadata": {
  "kernelspec": {
   "display_name": "Python 3",
   "language": "python",
   "name": "python3"
  },
  "language_info": {
   "codemirror_mode": {
    "name": "ipython",
    "version": 3
   },
   "file_extension": ".py",
   "mimetype": "text/x-python",
   "name": "python",
   "nbconvert_exporter": "python",
   "pygments_lexer": "ipython3",
   "version": "3.6.6"
  }
 },
 "nbformat": 4,
 "nbformat_minor": 2
}
