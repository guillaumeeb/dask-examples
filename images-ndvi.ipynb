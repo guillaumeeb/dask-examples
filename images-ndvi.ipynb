{
 "cells": [
  {
   "cell_type": "markdown",
   "metadata": {},
   "source": [
    "Using XArray to read tiled GeoTIFF datasets\n",
    "===========================================\n",
    "\n",
    "This notebook shows how to use XArray and Dask to process large GeoTIFF datasets efficiently."
   ]
  },
  {
   "cell_type": "markdown",
   "metadata": {},
   "source": [
    "Download Data\n",
    "-------------\n",
    "\n",
    "Lets download a sample GeoTIFF dataset from Landsat. Each spectral band is in a different file.  \n",
    "https://storage.googleapis.com/gcp-public-data-landsat/LC08/PRE/044/034/LC80440342016259LGN00/LC80440342016259LGN00_B2.TIF  \n",
    "https://storage.googleapis.com/gcp-public-data-landsat/LC08/PRE/044/034/LC80440342016259LGN00/LC80440342016259LGN00_B3.TIF  \n",
    "https://storage.googleapis.com/gcp-public-data-landsat/LC08/PRE/044/034/LC80440342016259LGN00/LC80440342016259LGN00_B4.TIF  \n",
    "https://storage.googleapis.com/gcp-public-data-landsat/LC08/PRE/044/034/LC80440342016259LGN00/LC80440342016259LGN00_B5.TIF  \n",
    "\n",
    "\n",
    "https://oin-hotosm.s3.amazonaws.com/5abae68e65bd8f00110f3e42/0/5abae68e65bd8f00110f3e43.tif"
   ]
  },
  {
   "cell_type": "code",
   "execution_count": 1,
   "metadata": {},
   "outputs": [
    {
     "name": "stdout",
     "output_type": "stream",
     "text": [
      "['https://storage.googleapis.com/gcp-public-data-landsat/LC08/PRE/044/034/LC80440342016259LGN00/LC80440342016259LGN00_B2.TIF', 'https://storage.googleapis.com/gcp-public-data-landsat/LC08/PRE/044/034/LC80440342016259LGN00/LC80440342016259LGN00_B3.TIF', 'https://storage.googleapis.com/gcp-public-data-landsat/LC08/PRE/044/034/LC80440342016259LGN00/LC80440342016259LGN00_B4.TIF', 'https://storage.googleapis.com/gcp-public-data-landsat/LC08/PRE/044/034/LC80440342016259LGN00/LC80440342016259LGN00_B5.TIF']\n"
     ]
    }
   ],
   "source": [
    "http_files = ['https://storage.googleapis.com/gcp-public-data-landsat/'\n",
    "              'LC08/PRE/044/034/LC80440342016259LGN00/LC80440342016259LGN00_B%d.TIF' % (i+2)\n",
    "              for i in range(4)]\n",
    "print(http_files)\n",
    "local_tiff_files = ['landsat_california_B%d.tif' % (i+2) for i in range(4)]\n",
    "\n",
    "import os\n",
    "if not os.path.exists(local_tiff_files[0]):\n",
    "    import requests\n",
    "    for i in range(4):\n",
    "        response = requests.get(http_files[i], verify=False)\n",
    "        with open(local_tiff_files[i], 'wb') as f:\n",
    "            f.write(response.content)"
   ]
  },
  {
   "cell_type": "markdown",
   "metadata": {},
   "source": [
    "## Look at metadata with XArray and Rasterio"
   ]
  },
  {
   "cell_type": "code",
   "execution_count": 2,
   "metadata": {},
   "outputs": [
    {
     "name": "stderr",
     "output_type": "stream",
     "text": [
      "/home/guillaume/outils/miniconda3/envs/dask_dev/lib/python3.6/importlib/_bootstrap.py:219: RuntimeWarning: numpy.dtype size changed, may indicate binary incompatibility. Expected 96, got 88\n",
      "  return f(*args, **kwds)\n",
      "/home/guillaume/outils/miniconda3/envs/dask_dev/lib/python3.6/importlib/_bootstrap.py:219: RuntimeWarning: numpy.dtype size changed, may indicate binary incompatibility. Expected 96, got 88\n",
      "  return f(*args, **kwds)\n"
     ]
    },
    {
     "data": {
      "text/plain": [
       "<xarray.DataArray (band: 1, y: 7811, x: 7671)>\n",
       "[59918181 values with dtype=uint16]\n",
       "Coordinates:\n",
       "  * band     (band) int64 1\n",
       "  * y        (y) float64 4.264e+06 4.264e+06 4.264e+06 4.264e+06 4.264e+06 ...\n",
       "  * x        (x) float64 4.644e+05 4.644e+05 4.645e+05 4.645e+05 4.645e+05 ...\n",
       "Attributes:\n",
       "    transform:   (464385.0, 30.0, 0.0, 4264515.0, 0.0, -30.0)\n",
       "    crs:         +init=epsg:32610\n",
       "    res:         (30.0, 30.0)\n",
       "    is_tiled:    1\n",
       "    nodatavals:  (nan,)"
      ]
     },
     "execution_count": 2,
     "metadata": {},
     "output_type": "execute_result"
    }
   ],
   "source": [
    "import xarray as xr\n",
    "xr.open_rasterio(local_tiff_files[0])  # this only reads metadata to start"
   ]
  },
  {
   "cell_type": "code",
   "execution_count": 3,
   "metadata": {},
   "outputs": [
    {
     "data": {
      "text/plain": [
       "<open RasterReader name='landsat_california_B2.tif' mode='r'>"
      ]
     },
     "execution_count": 3,
     "metadata": {},
     "output_type": "execute_result"
    }
   ],
   "source": [
    "import rasterio\n",
    "img = rasterio.open(local_tiff_files[0])\n",
    "img"
   ]
  },
  {
   "cell_type": "code",
   "execution_count": 4,
   "metadata": {},
   "outputs": [
    {
     "data": {
      "text/plain": [
       "True"
      ]
     },
     "execution_count": 4,
     "metadata": {},
     "output_type": "execute_result"
    }
   ],
   "source": [
    "img.is_tiled  # can we read this data in chunks?"
   ]
  },
  {
   "cell_type": "code",
   "execution_count": 5,
   "metadata": {},
   "outputs": [
    {
     "data": {
      "text/plain": [
       "{(256, 256)}"
      ]
     },
     "execution_count": 5,
     "metadata": {},
     "output_type": "execute_result"
    }
   ],
   "source": [
    "set(img.block_shapes)  # what are the block shapes that we expect from this file?"
   ]
  },
  {
   "cell_type": "markdown",
   "metadata": {},
   "source": [
    "Great, this dataset is chunked by band (each band separate) and x/y blocks of size 256x256.  We'll want our Dask array chunks to be a bit bigger than this, but we'll use a clean mulitple."
   ]
  },
  {
   "cell_type": "markdown",
   "metadata": {},
   "source": [
    "Create lazy XArray dataset around GeoTIFF file\n",
    "-------------------------------------"
   ]
  },
  {
   "cell_type": "code",
   "execution_count": 6,
   "metadata": {},
   "outputs": [
    {
     "data": {
      "text/plain": [
       "<xarray.DataArray (band: 2, y: 7811, x: 7671)>\n",
       "dask.array<shape=(2, 7811, 7671), dtype=uint16, chunksize=(1, 2048, 2048)>\n",
       "Coordinates:\n",
       "  * y        (y) float64 4.264e+06 4.264e+06 4.264e+06 4.264e+06 4.264e+06 ...\n",
       "  * x        (x) float64 4.644e+05 4.644e+05 4.645e+05 4.645e+05 4.645e+05 ...\n",
       "  * band     (band) int64 1 1\n",
       "Attributes:\n",
       "    transform:   (464385.0, 30.0, 0.0, 4264515.0, 0.0, -30.0)\n",
       "    crs:         +init=epsg:32610\n",
       "    res:         (30.0, 30.0)\n",
       "    is_tiled:    1\n",
       "    nodatavals:  (nan,)"
      ]
     },
     "execution_count": 6,
     "metadata": {},
     "output_type": "execute_result"
    }
   ],
   "source": [
    "ds1 = xr.open_rasterio(local_tiff_files[2], \n",
    "                      chunks={'band': 1, 'x': 2048, 'y': 2048})\n",
    "ds2 = xr.open_rasterio(local_tiff_files[3], chunks={'band': 1, 'x': 2048, 'y': 2048})\n",
    "ds = xr.concat([ds1,ds2], dim='band')\n",
    "ds"
   ]
  },
  {
   "cell_type": "markdown",
   "metadata": {},
   "source": [
    "We note that the variables are dask arrays rather than numpy arrays"
   ]
  },
  {
   "cell_type": "code",
   "execution_count": 7,
   "metadata": {},
   "outputs": [
    {
     "data": {
      "text/plain": [
       "dask.array<concatenate, shape=(2, 7811, 7671), dtype=uint16, chunksize=(1, 2048, 2048)>"
      ]
     },
     "execution_count": 7,
     "metadata": {},
     "output_type": "execute_result"
    }
   ],
   "source": [
    "ds.variable.data"
   ]
  },
  {
   "cell_type": "code",
   "execution_count": null,
   "metadata": {},
   "outputs": [],
   "source": [
    "# Try that http://xarray.pydata.org/en/stable/auto_gallery/plot_rasterio_rgb.html"
   ]
  },
  {
   "cell_type": "markdown",
   "metadata": {},
   "source": [
    "For NDVI computation we will need to sum pixel values, which may leed to integer greater than 65536, so we need to use uint32 instead of uint16. Using uint16 can even lead to complex behavior like optaining exactly 65536 which is 0, and so having nb/0=inf during the NDVI computation.\n",
    "\n",
    "The problem can be obtain on this image on point 3170,1093."
   ]
  },
  {
   "cell_type": "code",
   "execution_count": 9,
   "metadata": {},
   "outputs": [
    {
     "data": {
      "text/plain": [
       "dask.array<astype, shape=(2, 7811, 7671), dtype=uint32, chunksize=(1, 2048, 2048)>"
      ]
     },
     "execution_count": 9,
     "metadata": {},
     "output_type": "execute_result"
    }
   ],
   "source": [
    "import numpy as np\n",
    "ds = ds.astype(np.uint32)\n",
    "ds.variable.data"
   ]
  },
  {
   "cell_type": "markdown",
   "metadata": {},
   "source": [
    "Optionally create a Dask Client\n",
    "-------------------------------\n",
    "\n",
    "I do this just to look at the dashboard during execution.  You don't need to run this though. Things will work just fine with the local thread pool scheduler."
   ]
  },
  {
   "cell_type": "code",
   "execution_count": 10,
   "metadata": {},
   "outputs": [
    {
     "data": {
      "text/html": [
       "<table style=\"border: 2px solid white;\">\n",
       "<tr>\n",
       "<td style=\"vertical-align: top; border: 0px solid white\">\n",
       "<h3>Client</h3>\n",
       "<ul>\n",
       "  <li><b>Scheduler: </b>tcp://127.0.0.1:42207\n",
       "  <li><b>Dashboard: </b><a href='http://127.0.0.1:8787/status' target='_blank'>http://127.0.0.1:8787/status</a>\n",
       "</ul>\n",
       "</td>\n",
       "<td style=\"vertical-align: top; border: 0px solid white\">\n",
       "<h3>Cluster</h3>\n",
       "<ul>\n",
       "  <li><b>Workers: </b>1</li>\n",
       "  <li><b>Cores: </b>4</li>\n",
       "  <li><b>Memory: </b>8.39 GB</li>\n",
       "</ul>\n",
       "</td>\n",
       "</tr>\n",
       "</table>"
      ],
      "text/plain": [
       "<Client: scheduler='tcp://127.0.0.1:42207' processes=1 cores=4>"
      ]
     },
     "execution_count": 10,
     "metadata": {},
     "output_type": "execute_result"
    }
   ],
   "source": [
    "from dask.distributed import LocalCluster, Client\n",
    "client = Client(LocalCluster(n_workers=1, threads_per_worker=4))\n",
    "client"
   ]
  },
  {
   "cell_type": "markdown",
   "metadata": {},
   "source": [
    "Compute the NDVI and plot it\n",
    "------------------------------------------"
   ]
  },
  {
   "cell_type": "code",
   "execution_count": 11,
   "metadata": {},
   "outputs": [],
   "source": [
    "ndvi = (ds[1,:,:] - ds[0,:,:]) / (ds[1,:,:] + ds[0,:,:])"
   ]
  },
  {
   "cell_type": "code",
   "execution_count": 18,
   "metadata": {},
   "outputs": [
    {
     "data": {
      "text/plain": [
       "<xarray.DataArray (y: 7811, x: 7671)>\n",
       "dask.array<shape=(7811, 7671), dtype=float64, chunksize=(2048, 2048)>\n",
       "Coordinates:\n",
       "  * y        (y) float64 4.264e+06 4.264e+06 4.264e+06 4.264e+06 4.264e+06 ...\n",
       "  * x        (x) float64 4.644e+05 4.644e+05 4.645e+05 4.645e+05 4.645e+05 ...\n",
       "    band     int64 1"
      ]
     },
     "execution_count": 18,
     "metadata": {},
     "output_type": "execute_result"
    }
   ],
   "source": [
    "ndvi = ndvi.persist()\n",
    "ndvi"
   ]
  },
  {
   "cell_type": "code",
   "execution_count": 16,
   "metadata": {},
   "outputs": [
    {
     "data": {
      "text/plain": [
       "<matplotlib.image.AxesImage at 0x7f56fcbedac8>"
      ]
     },
     "execution_count": 16,
     "metadata": {},
     "output_type": "execute_result"
    },
    {
     "data": {
      "image/png": "[encoded data removed]",
      "text/plain": [
       "<Figure size 432x288 with 1 Axes>"
      ]
     },
     "metadata": {},
     "output_type": "display_data"
    }
   ],
   "source": [
    "import matplotlib.pyplot as plt\n",
    "plt.imshow(ndvi.compute().values)"
   ]
  },
  {
   "cell_type": "code",
   "execution_count": 20,
   "metadata": {},
   "outputs": [
    {
     "data": {
      "text/plain": [
       "<matplotlib.collections.QuadMesh at 0x7f56fc1342e8>"
      ]
     },
     "execution_count": 20,
     "metadata": {},
     "output_type": "execute_result"
    },
    {
     "data": {
      "image/png": "[encoded data removed]",
      "text/plain": [
       "<Figure size 432x288 with 2 Axes>"
      ]
     },
     "metadata": {},
     "output_type": "display_data"
    }
   ],
   "source": [
    "ndvi.plot()"
   ]
  },
  {
   "cell_type": "markdown",
   "metadata": {},
   "source": [
    "# Debugging"
   ]
  },
  {
   "cell_type": "code",
   "execution_count": null,
   "metadata": {},
   "outputs": [],
   "source": []
  },
  {
   "cell_type": "code",
   "execution_count": 15,
   "metadata": {},
   "outputs": [
    {
     "data": {
      "text/plain": [
       "array(0.02886963)"
      ]
     },
     "execution_count": 15,
     "metadata": {},
     "output_type": "execute_result"
    }
   ],
   "source": [
    "point_ndvi = (ds[1,3170,1093] - ds[0,3170,1093]) / (ds[1,3170,1093] + ds[0,3170,1093])\n",
    "point_ndvi.compute().values"
   ]
  },
  {
   "cell_type": "code",
   "execution_count": 12,
   "metadata": {},
   "outputs": [
    {
     "data": {
      "text/plain": [
       "array(0, dtype=uint16)"
      ]
     },
     "execution_count": 12,
     "metadata": {},
     "output_type": "execute_result"
    }
   ],
   "source": [
    "point_ndvi = ds[1,3170,1093] + ds[0,3170,1093]\n",
    "point_ndvi.compute().values"
   ]
  },
  {
   "cell_type": "code",
   "execution_count": 17,
   "metadata": {},
   "outputs": [
    {
     "name": "stdout",
     "output_type": "stream",
     "text": [
      "uint32\n",
      "33714\n",
      "31822\n",
      "65536\n"
     ]
    },
    {
     "data": {
      "text/plain": [
       "65536"
      ]
     },
     "execution_count": 17,
     "metadata": {},
     "output_type": "execute_result"
    }
   ],
   "source": [
    "#Problème de dtype !\n",
    "x = ds[1,3170,1093].values\n",
    "y = ds[0,3170,1093].values\n",
    "print(x.dtype)\n",
    "print(x)\n",
    "print(y)\n",
    "print(x+y)\n",
    "import numpy as np\n",
    "np.add(x,y,casting='equiv')"
   ]
  },
  {
   "cell_type": "code",
   "execution_count": 86,
   "metadata": {},
   "outputs": [
    {
     "data": {
      "text/plain": [
       "65536"
      ]
     },
     "execution_count": 86,
     "metadata": {},
     "output_type": "execute_result"
    }
   ],
   "source": [
    "33714 + 31822"
   ]
  },
  {
   "cell_type": "code",
   "execution_count": 73,
   "metadata": {},
   "outputs": [
    {
     "data": {
      "text/plain": [
       "array([31822, 33714], dtype=uint16)"
      ]
     },
     "execution_count": 73,
     "metadata": {},
     "output_type": "execute_result"
    }
   ],
   "source": [
    "ds[:,3170,1093].values"
   ]
  },
  {
   "cell_type": "code",
   "execution_count": 25,
   "metadata": {},
   "outputs": [
    {
     "data": {
      "text/plain": [
       "<xarray.DataArray (x: 7671)>\n",
       "array([nan, nan, nan, ..., nan, nan, nan])\n",
       "Coordinates:\n",
       "    y        float64 4.264e+06\n",
       "  * x        (x) float64 4.644e+05 4.644e+05 4.645e+05 4.645e+05 4.645e+05 ...\n",
       "    band     int64 1"
      ]
     },
     "execution_count": 25,
     "metadata": {},
     "output_type": "execute_result"
    }
   ],
   "source": [
    "local_ndvi = ndvi.compute()\n",
    "local_ndvi[0]"
   ]
  },
  {
   "cell_type": "code",
   "execution_count": 72,
   "metadata": {},
   "outputs": [
    {
     "data": {
      "text/plain": [
       "array(inf)"
      ]
     },
     "execution_count": 72,
     "metadata": {},
     "output_type": "execute_result"
    }
   ],
   "source": [
    "local_ndvi[3170,1093].values"
   ]
  },
  {
   "cell_type": "code",
   "execution_count": 37,
   "metadata": {},
   "outputs": [
    {
     "data": {
      "text/plain": [
       "inf"
      ]
     },
     "execution_count": 37,
     "metadata": {},
     "output_type": "execute_result"
    }
   ],
   "source": [
    "# Problème, y a une infinity qq part !!\n",
    "import numpy as np\n",
    "np.nanmax(local_ndvi)"
   ]
  },
  {
   "cell_type": "code",
   "execution_count": 61,
   "metadata": {
    "scrolled": true
   },
   "outputs": [
    {
     "data": {
      "text/plain": [
       "array([[5.2519685 , 7.14705882, 7.1119403 ,        inf, 0.02848788],\n",
       "       [0.02973233, 0.03031613, 0.03088313, 0.03098687, 0.03000249],\n",
       "       [0.02921167, 0.02929065, 0.02960325, 0.0298928 , 0.02882912],\n",
       "       [5.88311688, 9.38888889, 0.03042957, 0.02894183, 0.02776887],\n",
       "       [1.19324244, 2.34562212, 0.02910504, 0.02899751, 0.02897886]])"
      ]
     },
     "execution_count": 61,
     "metadata": {},
     "output_type": "execute_result"
    }
   ],
   "source": [
    "local_ndvi[3170:3175,1090:1095].values"
   ]
  }
 ],
 "metadata": {
  "kernelspec": {
   "display_name": "Python 3",
   "language": "python",
   "name": "python3"
  },
  "language_info": {
   "codemirror_mode": {
    "name": "ipython",
    "version": 3
   },
   "file_extension": ".py",
   "mimetype": "text/x-python",
   "name": "python",
   "nbconvert_exporter": "python",
   "pygments_lexer": "ipython3",
   "version": "3.6.6"
  }
 },
 "nbformat": 4,
 "nbformat_minor": 2
}
