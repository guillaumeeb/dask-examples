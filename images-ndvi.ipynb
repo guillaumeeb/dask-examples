{
 "cells": [
  {
   "cell_type": "markdown",
   "metadata": {},
   "source": [
    "Using XArray to read tiled GeoTIFF datasets\n",
    "===========================================\n",
    "\n",
    "This notebook shows how to use XArray and Dask to process large GeoTIFF datasets efficiently."
   ]
  },
  {
   "cell_type": "markdown",
   "metadata": {},
   "source": [
    "Download Data\n",
    "-------------\n",
    "\n",
    "Lets download a sample GeoTIFF dataset\n",
    "\n",
    "https://oin-hotosm.s3.amazonaws.com/5abae68e65bd8f00110f3e42/0/5abae68e65bd8f00110f3e43.tif"
   ]
  },
  {
   "cell_type": "code",
   "execution_count": 1,
   "metadata": {},
   "outputs": [],
   "source": [
    "import os\n",
    "if not os.path.exists('myfile.tif'):\n",
    "    import requests\n",
    "    response = requests.get('https://oin-hotosm.s3.amazonaws.com/5abae68e65bd8f00110f3e42/0/5abae68e65bd8f00110f3e43.tif')\n",
    "    with open('myfile.tif', 'wb') as f:\n",
    "        f.write(response.content)"
   ]
  },
  {
   "cell_type": "markdown",
   "metadata": {},
   "source": [
    "## Look at metadata with XArray and Rasterio"
   ]
  },
  {
   "cell_type": "code",
   "execution_count": 3,
   "metadata": {},
   "outputs": [
    {
     "name": "stderr",
     "output_type": "stream",
     "text": [
      "/home/guillaume/outils/miniconda3/envs/dask_dev/lib/python3.6/importlib/_bootstrap.py:219: RuntimeWarning: numpy.dtype size changed, may indicate binary incompatibility. Expected 96, got 88\n",
      "  return f(*args, **kwds)\n"
     ]
    },
    {
     "data": {
      "text/plain": [
       "<xarray.DataArray (band: 3, y: 10376, x: 10211)>\n",
       "[317848008 values with dtype=uint8]\n",
       "Coordinates:\n",
       "  * band     (band) int64 1 2 3\n",
       "  * y        (y) float64 41.55 41.55 41.55 41.55 41.55 41.55 41.55 41.55 ...\n",
       "  * x        (x) float64 -70.61 -70.61 -70.61 -70.61 -70.61 -70.61 -70.61 ...\n",
       "Attributes:\n",
       "    transform:   (-70.61029151325789, 2.858800307578235e-07, 0.0, 41.55024643...\n",
       "    crs:         +init=epsg:4326\n",
       "    res:         (2.858800307578235e-07, 2.1475464908746744e-07)\n",
       "    is_tiled:    1\n",
       "    nodatavals:  (0.0, 0.0, 0.0)"
      ]
     },
     "execution_count": 3,
     "metadata": {},
     "output_type": "execute_result"
    }
   ],
   "source": [
    "import xarray as xr\n",
    "xr.open_rasterio('myfile.tif')  # this only reads metadata to start"
   ]
  },
  {
   "cell_type": "code",
   "execution_count": 4,
   "metadata": {},
   "outputs": [
    {
     "data": {
      "text/plain": [
       "<open RasterReader name='myfile.tif' mode='r'>"
      ]
     },
     "execution_count": 4,
     "metadata": {},
     "output_type": "execute_result"
    }
   ],
   "source": [
    "import rasterio\n",
    "img = rasterio.open('myfile.tif')\n",
    "img"
   ]
  },
  {
   "cell_type": "code",
   "execution_count": 5,
   "metadata": {},
   "outputs": [
    {
     "data": {
      "text/plain": [
       "True"
      ]
     },
     "execution_count": 5,
     "metadata": {},
     "output_type": "execute_result"
    }
   ],
   "source": [
    "img.is_tiled  # can we read this data in chunks?"
   ]
  },
  {
   "cell_type": "code",
   "execution_count": 6,
   "metadata": {},
   "outputs": [
    {
     "data": {
      "text/plain": [
       "{(512, 512)}"
      ]
     },
     "execution_count": 6,
     "metadata": {},
     "output_type": "execute_result"
    }
   ],
   "source": [
    "set(img.block_shapes)  # what are the block shapes that we expect from this file?"
   ]
  },
  {
   "cell_type": "markdown",
   "metadata": {},
   "source": [
    "Great, this dataset is chunked by band (each band separate) and x/y blocks of size 512x512.  We'll want our Dask array chunks to be a bit bigger than this, but we'll use a clean mulitple."
   ]
  },
  {
   "cell_type": "markdown",
   "metadata": {},
   "source": [
    "Create lazy XArray dataset around GeoTIFF file\n",
    "-------------------------------------"
   ]
  },
  {
   "cell_type": "code",
   "execution_count": 9,
   "metadata": {},
   "outputs": [
    {
     "data": {
      "text/plain": [
       "<xarray.DataArray (band: 3, y: 10376, x: 10211)>\n",
       "dask.array<shape=(3, 10376, 10211), dtype=uint8, chunksize=(1, 2048, 2048)>\n",
       "Coordinates:\n",
       "  * band     (band) int64 1 2 3\n",
       "  * y        (y) float64 41.55 41.55 41.55 41.55 41.55 41.55 41.55 41.55 ...\n",
       "  * x        (x) float64 -70.61 -70.61 -70.61 -70.61 -70.61 -70.61 -70.61 ...\n",
       "Attributes:\n",
       "    transform:   (-70.61029151325789, 2.858800307578235e-07, 0.0, 41.55024643...\n",
       "    crs:         +init=epsg:4326\n",
       "    res:         (2.858800307578235e-07, 2.1475464908746744e-07)\n",
       "    is_tiled:    1\n",
       "    nodatavals:  (0.0, 0.0, 0.0)"
      ]
     },
     "execution_count": 9,
     "metadata": {},
     "output_type": "execute_result"
    }
   ],
   "source": [
    "ds = xr.open_rasterio('myfile.tif', \n",
    "                      chunks={'band': 1, 'x': 2048, 'y': 2048})\n",
    "ds"
   ]
  },
  {
   "cell_type": "markdown",
   "metadata": {},
   "source": [
    "We note that the variables are dask arrays rather than numpy arrays"
   ]
  },
  {
   "cell_type": "code",
   "execution_count": 10,
   "metadata": {},
   "outputs": [
    {
     "data": {
      "text/plain": [
       "dask.array<open_rasterio-68063c932a231ca3c4260a129dc70974<this-array>, shape=(3, 10376, 10211), dtype=uint8, chunksize=(1, 2048, 2048)>"
      ]
     },
     "execution_count": 10,
     "metadata": {},
     "output_type": "execute_result"
    }
   ],
   "source": [
    "ds.variable.data"
   ]
  },
  {
   "cell_type": "markdown",
   "metadata": {},
   "source": [
    "Optionally create a Dask Client\n",
    "-------------------------------\n",
    "\n",
    "I do this just to look at the dashboard during execution.  You don't need to run this though. Things will work just fine with the local thread pool scheduler."
   ]
  },
  {
   "cell_type": "code",
   "execution_count": 8,
   "metadata": {},
   "outputs": [
    {
     "data": {
      "text/html": [
       "<table style=\"border: 2px solid white;\">\n",
       "<tr>\n",
       "<td style=\"vertical-align: top; border: 0px solid white\">\n",
       "<h3>Client</h3>\n",
       "<ul>\n",
       "  <li><b>Scheduler: </b>inproc://192.168.50.100/7229/1\n",
       "  <li><b>Dashboard: </b><a href='http://localhost:8787/status' target='_blank'>http://localhost:8787/status</a>\n",
       "</ul>\n",
       "</td>\n",
       "<td style=\"vertical-align: top; border: 0px solid white\">\n",
       "<h3>Cluster</h3>\n",
       "<ul>\n",
       "  <li><b>Workers: </b>1</li>\n",
       "  <li><b>Cores: </b>4</li>\n",
       "  <li><b>Memory: </b>16.68 GB</li>\n",
       "</ul>\n",
       "</td>\n",
       "</tr>\n",
       "</table>"
      ],
      "text/plain": [
       "<Client: scheduler='inproc://192.168.50.100/7229/1' processes=1 cores=4>"
      ]
     },
     "execution_count": 8,
     "metadata": {},
     "output_type": "execute_result"
    }
   ],
   "source": [
    "from dask.distributed import Client\n",
    "client = Client(processes=False)\n",
    "client"
   ]
  },
  {
   "cell_type": "code",
   "execution_count": 11,
   "metadata": {},
   "outputs": [
    {
     "data": {
      "text/plain": [
       "<xarray.DataArray (band: 3)>\n",
       "array([10452513028, 10553994024, 12156173330], dtype=uint64)\n",
       "Coordinates:\n",
       "  * band     (band) int64 1 2 3"
      ]
     },
     "execution_count": 11,
     "metadata": {},
     "output_type": "execute_result"
    }
   ],
   "source": [
    "import dask\n",
    "ds.sum(dim=['x', 'y']).compute()"
   ]
  },
  {
   "cell_type": "code",
   "execution_count": null,
   "metadata": {},
   "outputs": [],
   "source": []
  }
 ],
 "metadata": {
  "kernelspec": {
   "display_name": "Python 3",
   "language": "python",
   "name": "python3"
  },
  "language_info": {
   "codemirror_mode": {
    "name": "ipython",
    "version": 3
   },
   "file_extension": ".py",
   "mimetype": "text/x-python",
   "name": "python",
   "nbconvert_exporter": "python",
   "pygments_lexer": "ipython3",
   "version": "3.6.6"
  }
 },
 "nbformat": 4,
 "nbformat_minor": 2
}
